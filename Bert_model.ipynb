{
 "cells": [
  {
   "cell_type": "markdown",
   "metadata": {
    "id": "z6piEoRlde8c"
   },
   "source": [
    "# **Nilesh Hegde**\n",
    "## **FAKE NEWS DETECTION**\n",
    "\n",
    "This notebooks contains code related to PyTorch based BERT classifier."
   ]
  },
  {
   "cell_type": "markdown",
   "metadata": {
    "id": "1oBSiZ3fW-4v"
   },
   "source": [
    "# **NOTE - Please upload the dataset 'data.csv' before executing the notebook**"
   ]
  },
  {
   "cell_type": "markdown",
   "metadata": {
    "id": "AxqF5xdtnwmV"
   },
   "source": [
    "# **IMPORT LIBRARIES**\n",
    "\n",
    "Import libraries and modules needed for various functions and uses in this notebook. If needed please install *pandas, numpy, torchvision* if not modules don't exist"
   ]
  },
  {
   "cell_type": "code",
   "execution_count": null,
   "metadata": {
    "id": "ZvccGS8tnJDM"
   },
   "outputs": [],
   "source": [
    "import torch\n",
    "import pandas as pd\n",
    "import numpy as np\n",
    "import re\n",
    "import torch.optim as optim\n",
    "import torch.nn as nn\n",
    "import torch.nn.functional as F\n",
    "from torch.autograd import Variable\n",
    "from torch.utils.data import Dataset, DataLoader, TensorDataset, RandomSampler, SequentialSampler\n",
    "import time\n",
    "import datetime\n",
    "import random\n",
    "from sklearn import metrics\n",
    "import matplotlib.pyplot as plt\n",
    "%matplotlib inline\n",
    "import seaborn as sns"
   ]
  },
  {
   "cell_type": "markdown",
   "metadata": {
    "id": "FFp76KWRoMNt"
   },
   "source": [
    "# **Check for GPU**\n",
    "\n",
    "Check if GPUs are available. If they are use them as devices to evaluate model."
   ]
  },
  {
   "cell_type": "code",
   "execution_count": null,
   "metadata": {
    "colab": {
     "base_uri": "https://localhost:8080/"
    },
    "id": "MofbyBSahXIH",
    "outputId": "7d00a4c2-790d-4960-b982-4dec1de5b926"
   },
   "outputs": [
    {
     "name": "stdout",
     "output_type": "stream",
     "text": [
      "There are 1 GPU(s) available.\n",
      "We will use the GPU: Tesla T4\n"
     ]
    }
   ],
   "source": [
    "if torch.cuda.is_available():    \n",
    "    device = torch.device(\"cuda\")\n",
    "    print('There are %d GPU(s) available.' % torch.cuda.device_count())\n",
    "    print('We will use the GPU:', torch.cuda.get_device_name(0))\n",
    "else:\n",
    "    print('No GPU available, using the CPU instead.')\n",
    "    device = torch.device(\"cpu\")"
   ]
  },
  {
   "cell_type": "markdown",
   "metadata": {
    "id": "Ol557BXWpN57"
   },
   "source": [
    "# **Check for Transformers**\n",
    "\n",
    "Check if transformers module has been installed. If not install it."
   ]
  },
  {
   "cell_type": "code",
   "execution_count": null,
   "metadata": {
    "colab": {
     "base_uri": "https://localhost:8080/"
    },
    "id": "3lmxdS0VkLA6",
    "outputId": "b7f55a1d-8ada-4670-afdf-76a812046b93"
   },
   "outputs": [
    {
     "name": "stdout",
     "output_type": "stream",
     "text": [
      "Looking in indexes: https://pypi.org/simple, https://us-python.pkg.dev/colab-wheels/public/simple/\n",
      "Collecting transformers\n",
      "  Downloading transformers-4.28.1-py3-none-any.whl (7.0 MB)\n",
      "\u001b[2K     \u001b[90m━━━━━━━━━━━━━━━━━━━━━━━━━━━━━━━━━━━━━━━━\u001b[0m \u001b[32m7.0/7.0 MB\u001b[0m \u001b[31m32.9 MB/s\u001b[0m eta \u001b[36m0:00:00\u001b[0m\n",
      "\u001b[?25hRequirement already satisfied: pyyaml>=5.1 in /usr/local/lib/python3.10/dist-packages (from transformers) (6.0)\n",
      "Requirement already satisfied: numpy>=1.17 in /usr/local/lib/python3.10/dist-packages (from transformers) (1.22.4)\n",
      "Collecting tokenizers!=0.11.3,<0.14,>=0.11.1\n",
      "  Downloading tokenizers-0.13.3-cp310-cp310-manylinux_2_17_x86_64.manylinux2014_x86_64.whl (7.8 MB)\n",
      "\u001b[2K     \u001b[90m━━━━━━━━━━━━━━━━━━━━━━━━━━━━━━━━━━━━━━━━\u001b[0m \u001b[32m7.8/7.8 MB\u001b[0m \u001b[31m57.6 MB/s\u001b[0m eta \u001b[36m0:00:00\u001b[0m\n",
      "\u001b[?25hRequirement already satisfied: packaging>=20.0 in /usr/local/lib/python3.10/dist-packages (from transformers) (23.1)\n",
      "Requirement already satisfied: tqdm>=4.27 in /usr/local/lib/python3.10/dist-packages (from transformers) (4.65.0)\n",
      "Collecting huggingface-hub<1.0,>=0.11.0\n",
      "  Downloading huggingface_hub-0.14.1-py3-none-any.whl (224 kB)\n",
      "\u001b[2K     \u001b[90m━━━━━━━━━━━━━━━━━━━━━━━━━━━━━━━━━━━━━━\u001b[0m \u001b[32m224.5/224.5 kB\u001b[0m \u001b[31m26.2 MB/s\u001b[0m eta \u001b[36m0:00:00\u001b[0m\n",
      "\u001b[?25hRequirement already satisfied: requests in /usr/local/lib/python3.10/dist-packages (from transformers) (2.27.1)\n",
      "Requirement already satisfied: regex!=2019.12.17 in /usr/local/lib/python3.10/dist-packages (from transformers) (2022.10.31)\n",
      "Requirement already satisfied: filelock in /usr/local/lib/python3.10/dist-packages (from transformers) (3.12.0)\n",
      "Requirement already satisfied: typing-extensions>=3.7.4.3 in /usr/local/lib/python3.10/dist-packages (from huggingface-hub<1.0,>=0.11.0->transformers) (4.5.0)\n",
      "Requirement already satisfied: fsspec in /usr/local/lib/python3.10/dist-packages (from huggingface-hub<1.0,>=0.11.0->transformers) (2023.4.0)\n",
      "Requirement already satisfied: charset-normalizer~=2.0.0 in /usr/local/lib/python3.10/dist-packages (from requests->transformers) (2.0.12)\n",
      "Requirement already satisfied: idna<4,>=2.5 in /usr/local/lib/python3.10/dist-packages (from requests->transformers) (3.4)\n",
      "Requirement already satisfied: certifi>=2017.4.17 in /usr/local/lib/python3.10/dist-packages (from requests->transformers) (2022.12.7)\n",
      "Requirement already satisfied: urllib3<1.27,>=1.21.1 in /usr/local/lib/python3.10/dist-packages (from requests->transformers) (1.26.15)\n",
      "Installing collected packages: tokenizers, huggingface-hub, transformers\n",
      "Successfully installed huggingface-hub-0.14.1 tokenizers-0.13.3 transformers-4.28.1\n"
     ]
    }
   ],
   "source": [
    "!pip install transformers"
   ]
  },
  {
   "cell_type": "markdown",
   "metadata": {
    "id": "cGEap52Gosn5"
   },
   "source": [
    "# **Read data and Preprocess it**\n",
    "\n",
    "Read the data from csv file and preprocess it by - \n",
    "1. Drop empty cell rows \n",
    "2. Concate title and text columns \n",
    "2. Convert to lower case\n",
    "4. Remove puctuations."
   ]
  },
  {
   "cell_type": "code",
   "execution_count": null,
   "metadata": {
    "colab": {
     "base_uri": "https://localhost:8080/"
    },
    "id": "wAfMCE4LkSpq",
    "outputId": "b41127e0-74ad-43cc-9423-36f7f8c4543d"
   },
   "outputs": [
    {
     "name": "stdout",
     "output_type": "stream",
     "text": [
      "Number of training sentences: 20,800\n",
      "\n"
     ]
    }
   ],
   "source": [
    "df = pd.read_csv('data.csv', encoding='UTF-8')\n",
    "df = df.sample(frac=1).reset_index(drop=True)\n",
    "print('Number of training sentences: {:,}\\n'.format(df.shape[0]))\n",
    "df['text'].dropna(inplace=True)\n",
    "df['text'] = df['text'] + ' ' + df['title']\n",
    "df['text'] = [str(entry).lower() for entry in df['text']]\n",
    "df['text'] = [re.sub(r\"\"\"\n",
    "               [,.;@#?!&$-]+  # Accept one or more copies of punctuation\n",
    "               \\ *           # plus zero or more copies of a space,\n",
    "               \"\"\",\n",
    "               \" \",          # and replace it with a single space\n",
    "               entry, flags=re.VERBOSE) for entry in df['text']]\n",
    "sentences = df['text'].values\n",
    "labels = df['label'].values"
   ]
  },
  {
   "cell_type": "markdown",
   "metadata": {
    "id": "z3oupZSCqihG"
   },
   "source": [
    "# **Load Pre-trained Model**\n",
    "\n",
    "Load the pre-trained BERT sequence classification model from transformers module and initialize BERT Tokenizer."
   ]
  },
  {
   "cell_type": "code",
   "execution_count": null,
   "metadata": {
    "colab": {
     "base_uri": "https://localhost:8080/",
     "height": 1000,
     "referenced_widgets": [
      "5168e6ba36484647a9bd7141c32dce19",
      "7ebab52b8fa64418b311aa70fb480932",
      "41e903835ec84a8388d5135df25b608f",
      "e78977966c414defbf614a184447c3fd",
      "bf57d6e7594c4bec9214a6a6fe409650",
      "50c0bf9ca0ba4e3489625cdcbfb9aa09",
      "8a2d83a30cb34a2f94ac58dddc02a7e2",
      "362bb3a1c51a49e994d3a1a6ac2f94a3",
      "4a011b385fdf4710915fdf48cc2fe5f5",
      "363422497665481f9f6521ecfdcf5f16",
      "741bd34d2f5a4f2196c260230730c742",
      "6166dbcb168d44a3b0eff04a50241423",
      "9cf7a0d770b34d4b82fc7b58e79879ff",
      "4994ef38d70c4c729f8c61edc13d2254",
      "836ff5a3ffa8401ca8cb955ceab57a22",
      "3aa993cc96a7424d9311568fcc39eee3",
      "15b068dceaec4879864fd19630b2f71f",
      "fb68d716f2de4acd9001eb3893e069e0",
      "e2a78669f6cb477bb46da269f55cbfb7",
      "bf0f85d3a94b49bf80907cd56679aa10",
      "02d70ac1082346d1a25551a9a427454b",
      "cd16a09cc81e46968ab27f5d76e24638",
      "5d78fc54b02a40a89c187e9c4f9aef43",
      "e82871b416e5407cb409f4a49b21d794",
      "83d5ed3a4f1c485bbadecd66f3b05fba",
      "e2798d7676fe4e5db6897c3df10f499d",
      "d052d1bc385447f686353ea8a9b79758",
      "73195a922691499fb66339382ab7c872",
      "16593d79fa044f1a876edbe0bd139325",
      "c45b1024555948198cd890687d4ce3a2",
      "d9874a1ef3634181a4dffa9b8d7a8eb1",
      "e47d12b1a29447cc96d0f06afa762073",
      "4049d3feba1548559997f37f0fef0869",
      "9e2e0ffca3214126b1edf0bbe77ff6b5",
      "ff53280172d043e6a74e943a1da18692",
      "64fa87b6a5d74e1d9927056a6dde4a3d",
      "1f1d837a5ced46aaa34902cf077f6bf2",
      "36712c0f5d8948b990d80c5da889c731",
      "18577e188ede449184199ef1514c716b",
      "7ce78a1e638c42d7bbe39996475a93d0",
      "364a8f893bf84cd29dd92029284dae32",
      "bbf6c58ed0e948b89a14de2cfe9f2e01",
      "8706c28d59854808b21983175efc5a57",
      "f5553308014b4efc8a408c284fa0823e"
     ]
    },
    "id": "eJV8-0d0o4vG",
    "outputId": "883d2cda-713c-4d4d-e732-ecd269ceb033"
   },
   "outputs": [
    {
     "data": {
      "application/vnd.jupyter.widget-view+json": {
       "model_id": "5168e6ba36484647a9bd7141c32dce19",
       "version_major": 2,
       "version_minor": 0
      },
      "text/plain": [
       "Downloading (…)lve/main/config.json:   0%|          | 0.00/570 [00:00<?, ?B/s]"
      ]
     },
     "metadata": {},
     "output_type": "display_data"
    },
    {
     "data": {
      "application/vnd.jupyter.widget-view+json": {
       "model_id": "6166dbcb168d44a3b0eff04a50241423",
       "version_major": 2,
       "version_minor": 0
      },
      "text/plain": [
       "Downloading pytorch_model.bin:   0%|          | 0.00/440M [00:00<?, ?B/s]"
      ]
     },
     "metadata": {},
     "output_type": "display_data"
    },
    {
     "name": "stderr",
     "output_type": "stream",
     "text": [
      "Some weights of the model checkpoint at bert-base-uncased were not used when initializing BertForSequenceClassification: ['cls.seq_relationship.weight', 'cls.predictions.transform.dense.bias', 'cls.predictions.transform.LayerNorm.bias', 'cls.predictions.decoder.weight', 'cls.predictions.bias', 'cls.predictions.transform.LayerNorm.weight', 'cls.seq_relationship.bias', 'cls.predictions.transform.dense.weight']\n",
      "- This IS expected if you are initializing BertForSequenceClassification from the checkpoint of a model trained on another task or with another architecture (e.g. initializing a BertForSequenceClassification model from a BertForPreTraining model).\n",
      "- This IS NOT expected if you are initializing BertForSequenceClassification from the checkpoint of a model that you expect to be exactly identical (initializing a BertForSequenceClassification model from a BertForSequenceClassification model).\n",
      "Some weights of BertForSequenceClassification were not initialized from the model checkpoint at bert-base-uncased and are newly initialized: ['classifier.bias', 'classifier.weight']\n",
      "You should probably TRAIN this model on a down-stream task to be able to use it for predictions and inference.\n"
     ]
    },
    {
     "data": {
      "application/vnd.jupyter.widget-view+json": {
       "model_id": "5d78fc54b02a40a89c187e9c4f9aef43",
       "version_major": 2,
       "version_minor": 0
      },
      "text/plain": [
       "Downloading (…)solve/main/vocab.txt:   0%|          | 0.00/232k [00:00<?, ?B/s]"
      ]
     },
     "metadata": {},
     "output_type": "display_data"
    },
    {
     "data": {
      "application/vnd.jupyter.widget-view+json": {
       "model_id": "9e2e0ffca3214126b1edf0bbe77ff6b5",
       "version_major": 2,
       "version_minor": 0
      },
      "text/plain": [
       "Downloading (…)okenizer_config.json:   0%|          | 0.00/28.0 [00:00<?, ?B/s]"
      ]
     },
     "metadata": {},
     "output_type": "display_data"
    },
    {
     "data": {
      "text/plain": [
       "BertForSequenceClassification(\n",
       "  (bert): BertModel(\n",
       "    (embeddings): BertEmbeddings(\n",
       "      (word_embeddings): Embedding(30522, 768, padding_idx=0)\n",
       "      (position_embeddings): Embedding(512, 768)\n",
       "      (token_type_embeddings): Embedding(2, 768)\n",
       "      (LayerNorm): LayerNorm((768,), eps=1e-12, elementwise_affine=True)\n",
       "      (dropout): Dropout(p=0.1, inplace=False)\n",
       "    )\n",
       "    (encoder): BertEncoder(\n",
       "      (layer): ModuleList(\n",
       "        (0-11): 12 x BertLayer(\n",
       "          (attention): BertAttention(\n",
       "            (self): BertSelfAttention(\n",
       "              (query): Linear(in_features=768, out_features=768, bias=True)\n",
       "              (key): Linear(in_features=768, out_features=768, bias=True)\n",
       "              (value): Linear(in_features=768, out_features=768, bias=True)\n",
       "              (dropout): Dropout(p=0.1, inplace=False)\n",
       "            )\n",
       "            (output): BertSelfOutput(\n",
       "              (dense): Linear(in_features=768, out_features=768, bias=True)\n",
       "              (LayerNorm): LayerNorm((768,), eps=1e-12, elementwise_affine=True)\n",
       "              (dropout): Dropout(p=0.1, inplace=False)\n",
       "            )\n",
       "          )\n",
       "          (intermediate): BertIntermediate(\n",
       "            (dense): Linear(in_features=768, out_features=3072, bias=True)\n",
       "            (intermediate_act_fn): GELUActivation()\n",
       "          )\n",
       "          (output): BertOutput(\n",
       "            (dense): Linear(in_features=3072, out_features=768, bias=True)\n",
       "            (LayerNorm): LayerNorm((768,), eps=1e-12, elementwise_affine=True)\n",
       "            (dropout): Dropout(p=0.1, inplace=False)\n",
       "          )\n",
       "        )\n",
       "      )\n",
       "    )\n",
       "    (pooler): BertPooler(\n",
       "      (dense): Linear(in_features=768, out_features=768, bias=True)\n",
       "      (activation): Tanh()\n",
       "    )\n",
       "  )\n",
       "  (dropout): Dropout(p=0.1, inplace=False)\n",
       "  (classifier): Linear(in_features=768, out_features=2, bias=True)\n",
       ")"
      ]
     },
     "execution_count": 5,
     "metadata": {},
     "output_type": "execute_result"
    }
   ],
   "source": [
    "from transformers import (\n",
    "                          BertForSequenceClassification,\n",
    "                          BertTokenizer,\n",
    "                          RobertaForSequenceClassification,\n",
    "                          RobertaTokenizer,\n",
    "                          AdamW,\n",
    "                          get_linear_schedule_with_warmup\n",
    "                          )\n",
    "bert_model = BertForSequenceClassification.from_pretrained(\"bert-base-uncased\",\n",
    "                                                                num_labels = 2,  \n",
    "                                                                output_attentions = False,\n",
    "                                                                output_hidden_states = False\n",
    "                                                          )\n",
    "bert_tokenizer = BertTokenizer.from_pretrained(\"bert-base-uncased\")\n",
    "bert_model.cuda()"
   ]
  },
  {
   "cell_type": "markdown",
   "metadata": {
    "id": "zMP--A3asO_F"
   },
   "source": [
    "# **Maximum length of sentence**\n",
    "\n",
    "Find the maximum length of sentences after tokenizing using BERT Toeknizer"
   ]
  },
  {
   "cell_type": "code",
   "execution_count": null,
   "metadata": {
    "colab": {
     "base_uri": "https://localhost:8080/"
    },
    "id": "vqXQ1E4QpnWD",
    "outputId": "2fbc1aab-5d18-4f6a-ba8e-5e87056ce897"
   },
   "outputs": [
    {
     "name": "stderr",
     "output_type": "stream",
     "text": [
      "Token indices sequence length is longer than the specified maximum sequence length for this model (4980 > 512). Running this sequence through the model will result in indexing errors\n"
     ]
    },
    {
     "name": "stdout",
     "output_type": "stream",
     "text": [
      "Max sentence length BERT:  114222\n"
     ]
    }
   ],
   "source": [
    "max_len_bert = 0\n",
    "for sent in sentences:\n",
    "    input_ids_bert = bert_tokenizer.encode(sent, add_special_tokens=True)\n",
    "    max_len_bert = max(max_len_bert, len(input_ids_bert))\n",
    "print('Max sentence length BERT: ', max_len_bert)"
   ]
  },
  {
   "cell_type": "markdown",
   "metadata": {
    "id": "ligDZqrOvxJb"
   },
   "source": [
    "# **Tokenize all of the sentences and map the tokens to thier word IDs.**\n",
    "\n",
    "For every sentence - \n",
    "1. Tokenize the sentence.\n",
    "2. Prepend the `[CLS]` token to the start.\n",
    "3. Append the `[SEP]` token to the end.\n",
    "4. Map tokens to their IDs.\n",
    "5. Pad or truncate the sentence to `max_length`\n",
    "6. Create attention masks for [PAD] tokens.\n",
    "\n",
    "Then convert lists to tensors."
   ]
  },
  {
   "cell_type": "code",
   "execution_count": null,
   "metadata": {
    "colab": {
     "base_uri": "https://localhost:8080/"
    },
    "id": "tDMhvsAlqpi7",
    "outputId": "f77cf302-f208-44e8-b65c-2de54154cb07"
   },
   "outputs": [
    {
     "name": "stderr",
     "output_type": "stream",
     "text": [
      "Truncation was not explicitly activated but `max_length` is provided a specific value, please use `truncation=True` to explicitly truncate examples to max length. Defaulting to 'longest_first' truncation strategy. If you encode pairs of sequences (GLUE-style) with the tokenizer you can select this strategy more precisely by providing a specific strategy to `truncation`.\n",
      "/usr/local/lib/python3.10/dist-packages/transformers/tokenization_utils_base.py:2354: FutureWarning: The `pad_to_max_length` argument is deprecated and will be removed in a future version, use `padding=True` or `padding='longest'` to pad to the longest sequence in the batch, or use `padding='max_length'` to pad to a max length. In this case, you can give a specific length with `max_length` (e.g. `max_length=45`) or leave max_length to None to pad to the maximal input size of the model (e.g. 512 for Bert).\n",
      "  warnings.warn(\n"
     ]
    }
   ],
   "source": [
    "bert_input_ids = []\n",
    "bert_attention_masks = []\n",
    "sentence_ids = []\n",
    "counter = 0\n",
    "for sent in sentences: \n",
    "    bert_encoded_dict = bert_tokenizer.encode_plus(\n",
    "                        sent,                      \n",
    "                        add_special_tokens = True, \n",
    "                        max_length = 120,           \n",
    "                        pad_to_max_length = True,\n",
    "                        return_attention_mask = True,   \n",
    "                        return_tensors = 'pt',     \n",
    "                   )  \n",
    "    bert_input_ids.append(bert_encoded_dict['input_ids'])\n",
    "    bert_attention_masks.append(bert_encoded_dict['attention_mask'])\n",
    "    sentence_ids.append(counter)\n",
    "    counter  = counter + 1\n",
    "bert_input_ids = torch.cat(bert_input_ids, dim=0)\n",
    "bert_attention_masks = torch.cat(bert_attention_masks, dim=0)\n",
    "labels = torch.tensor(labels)\n",
    "sentence_ids = torch.tensor(sentence_ids)"
   ]
  },
  {
   "cell_type": "markdown",
   "metadata": {
    "id": "k5ntdeTY0XYU"
   },
   "source": [
    "# **Perform Train-Validation-Test split**\n",
    "\n",
    "The first 15000 rows of data is for training and validation. The rest are for testing. Also created a function to remove indices from tensors."
   ]
  },
  {
   "cell_type": "code",
   "execution_count": null,
   "metadata": {
    "id": "l256KJhlrUUo"
   },
   "outputs": [],
   "source": [
    "def index_remover(tensordata):\n",
    "    input_ids = []\n",
    "    attention_masks = []\n",
    "    labels = []\n",
    "    for a,b,c,d in tensordata:\n",
    "        input_ids.append(b.tolist())\n",
    "        attention_masks.append(c.tolist())\n",
    "        labels.append(d.tolist())\n",
    "    input_ids = torch.tensor(input_ids)\n",
    "    attention_masks = torch.tensor(attention_masks)\n",
    "    labels = torch.tensor(labels)\n",
    "    final_dataset =  TensorDataset(input_ids, attention_masks, labels)\n",
    "    return final_dataset"
   ]
  },
  {
   "cell_type": "code",
   "execution_count": null,
   "metadata": {
    "colab": {
     "base_uri": "https://localhost:8080/"
    },
    "id": "G9AvTsXSrL9x",
    "outputId": "6398edc6-457c-4ab4-c367-70f136f5eb03"
   },
   "outputs": [
    {
     "name": "stdout",
     "output_type": "stream",
     "text": [
      "12,000 training samples\n",
      "6,026 training samples with real news\n",
      "3,000 validation samples\n",
      "1,474 validation samples with real news\n"
     ]
    }
   ],
   "source": [
    "torch.manual_seed(0)\n",
    "bert_dataset = TensorDataset(sentence_ids, bert_input_ids, bert_attention_masks, labels)\n",
    "bert_train_dataset = torch.utils.data.Subset(bert_dataset , range(12000))\n",
    "bert_val_dataset = torch.utils.data.Subset(bert_dataset , range(12000,15000))\n",
    "bert_test_dataset = torch.utils.data.Subset(bert_dataset , range(15000,len(bert_dataset)))\n",
    "sentence_ids_list_valid = []\n",
    "for a,b,c,d in bert_val_dataset:\n",
    "    sentence_ids_list_valid.append(a.tolist())\n",
    "bert_train_dataset = index_remover(bert_train_dataset)\n",
    "bert_val_dataset = index_remover(bert_val_dataset)\n",
    "label_temp_list = []\n",
    "for a,b,c in bert_train_dataset:\n",
    "    label_temp_list.append(c)\n",
    "print('{:>5,} training samples'.format(12000))\n",
    "print('{:>5,} training samples with real news'.format(sum(label_temp_list)))\n",
    "label_temp_list = []\n",
    "for a,b,c in bert_val_dataset:\n",
    "    label_temp_list.append(c)\n",
    "print('{:>5,} validation samples'.format(3000))\n",
    "print('{:>5,} validation samples with real news'.format(sum(label_temp_list)))"
   ]
  },
  {
   "cell_type": "markdown",
   "metadata": {
    "id": "-tBk21-O4Pn4"
   },
   "source": [
    "# **Dataloaders and Hyperparameters**\n",
    "\n",
    "Create dataloaders for training and validation sets and initialize *Adamw* optimizer. Also initialize a BERT scheduler. Initialize hyperparameters *#epochs* and *batch size*"
   ]
  },
  {
   "cell_type": "code",
   "execution_count": null,
   "metadata": {
    "id": "GYpPy1CjrzI_"
   },
   "outputs": [],
   "source": [
    "batch_size = 32\n",
    "bert_train_dataloader = DataLoader(\n",
    "            bert_train_dataset,  \n",
    "            sampler = RandomSampler(bert_train_dataset), \n",
    "            batch_size = batch_size \n",
    "        )\n",
    "bert_validation_dataloader = DataLoader(\n",
    "            bert_val_dataset, \n",
    "            sampler = SequentialSampler(bert_val_dataset), \n",
    "            batch_size = batch_size \n",
    "        )\n",
    "bert_optimizer = torch.optim.AdamW(bert_model.parameters(),\n",
    "                  lr = 5e-5, \n",
    "                  eps = 1e-8 \n",
    "                )\n",
    "epochs = 10\n",
    "total_steps = len(bert_train_dataloader) * epochs\n",
    "bert_scheduler = get_linear_schedule_with_warmup(bert_optimizer, \n",
    "                                            num_warmup_steps = 0,\n",
    "                                            num_training_steps = total_steps)"
   ]
  },
  {
   "cell_type": "markdown",
   "metadata": {
    "id": "CzeRRtTP50ux"
   },
   "source": [
    "# **Auxilary Functions**\n",
    "\n",
    "The following are auxilary function created to find accuarcies and time taken to execute evaluation in *hh:mm::ss* format"
   ]
  },
  {
   "cell_type": "code",
   "execution_count": null,
   "metadata": {
    "id": "ylLurHj4sRio"
   },
   "outputs": [],
   "source": [
    "def flat_accuracy(preds, labels):\n",
    "    pred_flat = np.argmax(preds, axis=1).flatten()\n",
    "    labels_flat = labels.flatten()\n",
    "    return np.sum(pred_flat == labels_flat) / len(labels_flat)\n",
    "\n",
    "def format_time(elapsed):\n",
    "    elapsed_rounded = int(round((elapsed)))\n",
    "    return str(datetime.timedelta(seconds=elapsed_rounded))"
   ]
  },
  {
   "cell_type": "markdown",
   "metadata": {
    "id": "IevaPK4b6VmW"
   },
   "source": [
    "# **Training the Model**\n",
    "\n",
    "Train the BERT model and evaluate performance on validation set."
   ]
  },
  {
   "cell_type": "code",
   "execution_count": null,
   "metadata": {
    "colab": {
     "base_uri": "https://localhost:8080/"
    },
    "id": "IwWumw7psatH",
    "outputId": "fcfd8fce-1712-4b7d-e871-c74b1a371835"
   },
   "outputs": [
    {
     "name": "stdout",
     "output_type": "stream",
     "text": [
      "\n",
      "======== Epoch 1 / 10 ========\n",
      "Training...\n",
      "  Batch    40  of    375.    Elapsed: 0:00:29.\n",
      "  Batch    80  of    375.    Elapsed: 0:00:55.\n",
      "  Batch   120  of    375.    Elapsed: 0:01:20.\n",
      "  Batch   160  of    375.    Elapsed: 0:01:45.\n",
      "  Batch   200  of    375.    Elapsed: 0:02:11.\n",
      "  Batch   240  of    375.    Elapsed: 0:02:37.\n",
      "  Batch   280  of    375.    Elapsed: 0:03:02.\n",
      "  Batch   320  of    375.    Elapsed: 0:03:27.\n",
      "  Batch   360  of    375.    Elapsed: 0:03:53.\n",
      "\n",
      "  Average training loss: 0.1533\n",
      "  Training epcoh took: 0:04:03\n",
      "\n",
      "Running Validation...\n",
      "  Accuracy: 0.9764\n",
      "  Validation Loss: 0.0642\n",
      "  Validation took: 0:00:20\n",
      "\n",
      "======== Epoch 2 / 10 ========\n",
      "Training...\n",
      "  Batch    40  of    375.    Elapsed: 0:00:25.\n",
      "  Batch    80  of    375.    Elapsed: 0:00:51.\n",
      "  Batch   120  of    375.    Elapsed: 0:01:16.\n",
      "  Batch   160  of    375.    Elapsed: 0:01:42.\n",
      "  Batch   200  of    375.    Elapsed: 0:02:07.\n",
      "  Batch   240  of    375.    Elapsed: 0:02:33.\n",
      "  Batch   280  of    375.    Elapsed: 0:02:58.\n",
      "  Batch   320  of    375.    Elapsed: 0:03:24.\n",
      "  Batch   360  of    375.    Elapsed: 0:03:49.\n",
      "\n",
      "  Average training loss: 0.0406\n",
      "  Training epcoh took: 0:03:59\n",
      "\n",
      "Running Validation...\n",
      "  Accuracy: 0.9847\n",
      "  Validation Loss: 0.0527\n",
      "  Validation took: 0:00:20\n",
      "\n",
      "======== Epoch 3 / 10 ========\n",
      "Training...\n",
      "  Batch    40  of    375.    Elapsed: 0:00:25.\n",
      "  Batch    80  of    375.    Elapsed: 0:00:51.\n",
      "  Batch   120  of    375.    Elapsed: 0:01:16.\n",
      "  Batch   160  of    375.    Elapsed: 0:01:42.\n",
      "  Batch   200  of    375.    Elapsed: 0:02:07.\n",
      "  Batch   240  of    375.    Elapsed: 0:02:33.\n",
      "  Batch   280  of    375.    Elapsed: 0:02:58.\n",
      "  Batch   320  of    375.    Elapsed: 0:03:23.\n",
      "  Batch   360  of    375.    Elapsed: 0:03:49.\n",
      "\n",
      "  Average training loss: 0.0104\n",
      "  Training epcoh took: 0:03:58\n",
      "\n",
      "Running Validation...\n",
      "  Accuracy: 0.9874\n",
      "  Validation Loss: 0.0617\n",
      "  Validation took: 0:00:20\n",
      "\n",
      "======== Epoch 4 / 10 ========\n",
      "Training...\n",
      "  Batch    40  of    375.    Elapsed: 0:00:25.\n",
      "  Batch    80  of    375.    Elapsed: 0:00:51.\n",
      "  Batch   120  of    375.    Elapsed: 0:01:16.\n",
      "  Batch   160  of    375.    Elapsed: 0:01:42.\n",
      "  Batch   200  of    375.    Elapsed: 0:02:07.\n",
      "  Batch   240  of    375.    Elapsed: 0:02:33.\n",
      "  Batch   280  of    375.    Elapsed: 0:02:58.\n",
      "  Batch   320  of    375.    Elapsed: 0:03:24.\n",
      "  Batch   360  of    375.    Elapsed: 0:03:49.\n",
      "\n",
      "  Average training loss: 0.0074\n",
      "  Training epcoh took: 0:03:58\n",
      "\n",
      "Running Validation...\n",
      "  Accuracy: 0.9857\n",
      "  Validation Loss: 0.0673\n",
      "  Validation took: 0:00:19\n",
      "\n",
      "======== Epoch 5 / 10 ========\n",
      "Training...\n",
      "  Batch    40  of    375.    Elapsed: 0:00:25.\n",
      "  Batch    80  of    375.    Elapsed: 0:00:51.\n",
      "  Batch   120  of    375.    Elapsed: 0:01:16.\n",
      "  Batch   160  of    375.    Elapsed: 0:01:41.\n",
      "  Batch   200  of    375.    Elapsed: 0:02:06.\n",
      "  Batch   240  of    375.    Elapsed: 0:02:32.\n",
      "  Batch   280  of    375.    Elapsed: 0:02:57.\n",
      "  Batch   320  of    375.    Elapsed: 0:03:22.\n",
      "  Batch   360  of    375.    Elapsed: 0:03:47.\n",
      "\n",
      "  Average training loss: 0.0021\n",
      "  Training epcoh took: 0:03:57\n",
      "\n",
      "Running Validation...\n",
      "  Accuracy: 0.9761\n",
      "  Validation Loss: 0.1589\n",
      "  Validation took: 0:00:19\n",
      "\n",
      "======== Epoch 6 / 10 ========\n",
      "Training...\n",
      "  Batch    40  of    375.    Elapsed: 0:00:25.\n",
      "  Batch    80  of    375.    Elapsed: 0:00:50.\n",
      "  Batch   120  of    375.    Elapsed: 0:01:16.\n",
      "  Batch   160  of    375.    Elapsed: 0:01:41.\n",
      "  Batch   200  of    375.    Elapsed: 0:02:06.\n",
      "  Batch   240  of    375.    Elapsed: 0:02:32.\n",
      "  Batch   280  of    375.    Elapsed: 0:02:57.\n",
      "  Batch   320  of    375.    Elapsed: 0:03:22.\n",
      "  Batch   360  of    375.    Elapsed: 0:03:47.\n",
      "\n",
      "  Average training loss: 0.0015\n",
      "  Training epcoh took: 0:03:57\n",
      "\n",
      "Running Validation...\n",
      "  Accuracy: 0.9867\n",
      "  Validation Loss: 0.0822\n",
      "  Validation took: 0:00:20\n",
      "\n",
      "======== Epoch 7 / 10 ========\n",
      "Training...\n",
      "  Batch    40  of    375.    Elapsed: 0:00:25.\n",
      "  Batch    80  of    375.    Elapsed: 0:00:51.\n",
      "  Batch   120  of    375.    Elapsed: 0:01:16.\n",
      "  Batch   160  of    375.    Elapsed: 0:01:42.\n",
      "  Batch   200  of    375.    Elapsed: 0:02:07.\n",
      "  Batch   240  of    375.    Elapsed: 0:02:33.\n",
      "  Batch   280  of    375.    Elapsed: 0:02:58.\n",
      "  Batch   320  of    375.    Elapsed: 0:03:24.\n",
      "  Batch   360  of    375.    Elapsed: 0:03:49.\n",
      "\n",
      "  Average training loss: 0.0009\n",
      "  Training epcoh took: 0:03:59\n",
      "\n",
      "Running Validation...\n",
      "  Accuracy: 0.9880\n",
      "  Validation Loss: 0.0772\n",
      "  Validation took: 0:00:20\n",
      "\n",
      "======== Epoch 8 / 10 ========\n",
      "Training...\n",
      "  Batch    40  of    375.    Elapsed: 0:00:25.\n",
      "  Batch    80  of    375.    Elapsed: 0:00:51.\n",
      "  Batch   120  of    375.    Elapsed: 0:01:16.\n",
      "  Batch   160  of    375.    Elapsed: 0:01:42.\n",
      "  Batch   200  of    375.    Elapsed: 0:02:07.\n",
      "  Batch   240  of    375.    Elapsed: 0:02:33.\n",
      "  Batch   280  of    375.    Elapsed: 0:02:58.\n",
      "  Batch   320  of    375.    Elapsed: 0:03:23.\n",
      "  Batch   360  of    375.    Elapsed: 0:03:49.\n",
      "\n",
      "  Average training loss: 0.0003\n",
      "  Training epcoh took: 0:03:58\n",
      "\n",
      "Running Validation...\n",
      "  Accuracy: 0.9890\n",
      "  Validation Loss: 0.0773\n",
      "  Validation took: 0:00:20\n",
      "\n",
      "======== Epoch 9 / 10 ========\n",
      "Training...\n",
      "  Batch    40  of    375.    Elapsed: 0:00:25.\n",
      "  Batch    80  of    375.    Elapsed: 0:00:51.\n",
      "  Batch   120  of    375.    Elapsed: 0:01:16.\n",
      "  Batch   160  of    375.    Elapsed: 0:01:42.\n",
      "  Batch   200  of    375.    Elapsed: 0:02:07.\n",
      "  Batch   240  of    375.    Elapsed: 0:02:32.\n",
      "  Batch   280  of    375.    Elapsed: 0:02:58.\n",
      "  Batch   320  of    375.    Elapsed: 0:03:23.\n",
      "  Batch   360  of    375.    Elapsed: 0:03:49.\n",
      "\n",
      "  Average training loss: 0.0005\n",
      "  Training epcoh took: 0:03:58\n",
      "\n",
      "Running Validation...\n",
      "  Accuracy: 0.9897\n",
      "  Validation Loss: 0.0813\n",
      "  Validation took: 0:00:20\n",
      "\n",
      "======== Epoch 10 / 10 ========\n",
      "Training...\n",
      "  Batch    40  of    375.    Elapsed: 0:00:25.\n",
      "  Batch    80  of    375.    Elapsed: 0:00:51.\n",
      "  Batch   120  of    375.    Elapsed: 0:01:16.\n",
      "  Batch   160  of    375.    Elapsed: 0:01:42.\n",
      "  Batch   200  of    375.    Elapsed: 0:02:07.\n",
      "  Batch   240  of    375.    Elapsed: 0:02:32.\n",
      "  Batch   280  of    375.    Elapsed: 0:02:58.\n",
      "  Batch   320  of    375.    Elapsed: 0:03:23.\n",
      "  Batch   360  of    375.    Elapsed: 0:03:49.\n",
      "\n",
      "  Average training loss: 0.0004\n",
      "  Training epcoh took: 0:03:58\n",
      "\n",
      "Running Validation...\n",
      "  Accuracy: 0.9877\n",
      "  Validation Loss: 0.0835\n",
      "  Validation took: 0:00:20\n",
      "\n",
      "Training complete!\n",
      "Total training took 0:43:01 (h:mm:ss)\n"
     ]
    }
   ],
   "source": [
    "seed_val = 100\n",
    "random.seed(seed_val)\n",
    "np.random.seed(seed_val)\n",
    "torch.manual_seed(seed_val)\n",
    "torch.cuda.manual_seed_all(seed_val)\n",
    "bert_training_stats = []\n",
    "total_t0 = time.time()\n",
    "least_val_loss = 10000\n",
    "best_bert_model = None\n",
    "for epoch_i in range(0, epochs):\n",
    "    print(\"\")\n",
    "    print('======== Epoch {:} / {:} ========'.format(epoch_i + 1, epochs))\n",
    "    print('Training...')\n",
    "    t0 = time.time()\n",
    "    total_train_loss = 0\n",
    "    bert_model.train()\n",
    "    for step, batch in enumerate(bert_train_dataloader):\n",
    "        if step % 40 == 0 and not step == 0:\n",
    "            elapsed = format_time(time.time() - t0)\n",
    "            print('  Batch {:>5,}  of  {:>5,}.    Elapsed: {:}.'.format(step, len(bert_train_dataloader), elapsed))\n",
    "        b_input_ids = batch[0].to(device)\n",
    "        b_input_mask = batch[1].to(device)\n",
    "        b_labels = batch[2].to(device)\n",
    "        bert_model.zero_grad()\n",
    "        loss, logits = bert_model(b_input_ids, \n",
    "                             token_type_ids=None, \n",
    "                             attention_mask=b_input_mask, \n",
    "                             labels=b_labels).to_tuple()\n",
    "        total_train_loss += loss.item()\n",
    "        loss.backward()\n",
    "        torch.nn.utils.clip_grad_norm_(bert_model.parameters(), 1.0)\n",
    "        bert_optimizer.step()\n",
    "        bert_scheduler.step()\n",
    "    avg_train_loss = total_train_loss / len(bert_train_dataloader)\n",
    "    training_time = format_time(time.time() - t0)\n",
    "    print(\"\")\n",
    "    print(\"  Average training loss: {0:.4f}\".format(avg_train_loss))\n",
    "    print(\"  Training epcoh took: {:}\".format(training_time))\n",
    "    \n",
    "\n",
    "    print(\"\")\n",
    "    print(\"Running Validation...\")\n",
    "    t0 = time.time()\n",
    "    bert_model.eval()\n",
    "    total_eval_accuracy = 0\n",
    "    total_eval_loss = 0\n",
    "    nb_eval_steps = 0\n",
    "    for batch in bert_validation_dataloader:\n",
    "        b_input_ids = batch[0].to(device)\n",
    "        b_input_mask = batch[1].to(device)\n",
    "        b_labels = batch[2].to(device)\n",
    "        with torch.no_grad():        \n",
    "            (loss, logits) = bert_model(b_input_ids, \n",
    "                                   token_type_ids=None, \n",
    "                                   attention_mask=b_input_mask,\n",
    "                                   labels=b_labels).to_tuple()\n",
    "        total_eval_loss += loss.item()\n",
    "        logits = logits.detach().cpu().numpy()\n",
    "        label_ids = b_labels.to('cpu').numpy()\n",
    "        total_eval_accuracy += flat_accuracy(logits, label_ids)\n",
    "    \n",
    "    avg_val_accuracy = total_eval_accuracy / len(bert_validation_dataloader)\n",
    "    print(\"  Accuracy: {0:.4f}\".format(avg_val_accuracy))\n",
    "    avg_val_loss = total_eval_loss / len(bert_validation_dataloader)\n",
    "    if avg_val_loss < least_val_loss:\n",
    "        least_val_loss = avg_val_loss \n",
    "        best_bert_model = bert_model\n",
    "    validation_time = format_time(time.time() - t0)\n",
    "    print(\"  Validation Loss: {0:.4f}\".format(avg_val_loss))\n",
    "    print(\"  Validation took: {:}\".format(validation_time))\n",
    "    bert_training_stats.append(\n",
    "        {\n",
    "            'epoch': epoch_i + 1,\n",
    "            'Training Loss': avg_train_loss,\n",
    "            'Valid. Loss': avg_val_loss,\n",
    "            'Valid. Accur.': avg_val_accuracy,\n",
    "            'Training Time': training_time,\n",
    "            'Validation Time': validation_time\n",
    "        }\n",
    "    )\n",
    "print(\"\")\n",
    "print(\"Training complete!\")\n",
    "print(\"Total training took {:} (h:mm:ss)\".format(format_time(time.time()-total_t0)))"
   ]
  },
  {
   "cell_type": "markdown",
   "metadata": {
    "id": "198Vb1EAMNxy"
   },
   "source": [
    "# **Loss and Accuracy Plots**\n",
    "\n",
    "Graphs of loss and accuracy of the model on training and validation data."
   ]
  },
  {
   "cell_type": "code",
   "execution_count": null,
   "metadata": {
    "colab": {
     "base_uri": "https://localhost:8080/",
     "height": 592
    },
    "id": "XXcFUW5_MZNa",
    "outputId": "4cccbd40-4924-481c-9610-69baf240a7ef"
   },
   "outputs": [
    {
     "data": {
      "image/png": "[encoded data removed]",
      "text/plain": [
       "<Figure size 1200x600 with 1 Axes>"
      ]
     },
     "metadata": {},
     "output_type": "display_data"
    }
   ],
   "source": [
    "df_stats = pd.DataFrame(data=bert_training_stats)\n",
    "df_stats = df_stats.set_index('epoch')\n",
    "sns.set(style='darkgrid')\n",
    "sns.set(font_scale=1.5)\n",
    "plt.rcParams[\"figure.figsize\"] = (12,6)\n",
    "plt.plot(df_stats['Training Loss'], 'r-o', label=\"Training\")\n",
    "plt.plot(df_stats['Valid. Loss'], 'b-o', label=\"Validation\")\n",
    "plt.title(\"Training & Validation Loss\")\n",
    "plt.xlabel(\"Epoch\")\n",
    "plt.ylabel(\"Loss\")\n",
    "plt.legend()\n",
    "plt.xticks([1, 2, 3, 4, 5, 6, 7, 8, 9, 10])\n",
    "plt.show()"
   ]
  },
  {
   "cell_type": "markdown",
   "metadata": {
    "id": "l6O8j9TpJ0z-"
   },
   "source": [
    "# **Performance Evaluation**\n",
    "\n",
    "Evaluate the performance of the model on test dataset using the BERT model with least validation loss."
   ]
  },
  {
   "cell_type": "code",
   "execution_count": null,
   "metadata": {
    "colab": {
     "base_uri": "https://localhost:8080/"
    },
    "id": "IQtkGHDy-Tmm",
    "outputId": "9559b53b-311d-4542-ffaa-f429d1b5cc59"
   },
   "outputs": [
    {
     "name": "stdout",
     "output_type": "stream",
     "text": [
      "Running performance evaluation...\n",
      "Accuracy on test dataset is 0.9857\n"
     ]
    }
   ],
   "source": [
    "print(\"Running performance evaluation...\")\n",
    "bert_test_dataset = index_remover(bert_test_dataset)\n",
    "bert_test_dataloader = DataLoader(\n",
    "            bert_test_dataset, \n",
    "            sampler = SequentialSampler(bert_test_dataset), \n",
    "            batch_size = batch_size \n",
    "        )\n",
    "best_bert_model.eval()\n",
    "predictions , true_labels = [], []\n",
    "for batch in bert_test_dataloader:\n",
    "    batch = tuple(t.to(device) for t in batch)\n",
    "    b_input_ids, b_input_mask, b_labels = batch\n",
    "    with torch.no_grad():\n",
    "        outputs = bert_model(b_input_ids, token_type_ids=None, \n",
    "                      attention_mask=b_input_mask)\n",
    "    logits = outputs[0]\n",
    "    logits = logits.detach().cpu().numpy()\n",
    "    label_ids = b_labels.to('cpu').numpy()\n",
    "    predictions.append(logits)\n",
    "    true_labels.append(label_ids)\n",
    "flat_predictions = np.concatenate(predictions, axis=0)\n",
    "flat_predictions = np.argmax(flat_predictions, axis=1).flatten()\n",
    "data_test = df.iloc[15000:]\n",
    "actual_value = data_test['label'].to_numpy()\n",
    "print('Accuracy on test dataset is',round(metrics.accuracy_score(flat_predictions, actual_value),4))"
   ]
  }
 ],
 "metadata": {
  "accelerator": "GPU",
  "colab": {
   "gpuType": "T4",
   "provenance": []
  },
  "gpuClass": "standard",
  "kernelspec": {
   "display_name": "Python 3 (ipykernel)",
   "language": "python",
   "name": "python3"
  },
  "language_info": {
   "codemirror_mode": {
    "name": "ipython",
    "version": 3
   },
   "file_extension": ".py",
   "mimetype": "text/x-python",
   "name": "python",
   "nbconvert_exporter": "python",
   "pygments_lexer": "ipython3",
   "version": "3.10.9"
  },
  "widgets": {
   "application/vnd.jupyter.widget-state+json": {
    "02d70ac1082346d1a25551a9a427454b": {
     "model_module": "@jupyter-widgets/base",
     "model_module_version": "1.2.0",
     "model_name": "LayoutModel",
     "state": {
      "_model_module": "@jupyter-widgets/base",
      "_model_module_version": "1.2.0",
      "_model_name": "LayoutModel",
      "_view_count": null,
      "_view_module": "@jupyter-widgets/base",
      "_view_module_version": "1.2.0",
      "_view_name": "LayoutView",
      "align_content": null,
      "align_items": null,
      "align_self": null,
      "border": null,
      "bottom": null,
      "display": null,
      "flex": null,
      "flex_flow": null,
      "grid_area": null,
      "grid_auto_columns": null,
      "grid_auto_flow": null,
      "grid_auto_rows": null,
      "grid_column": null,
      "grid_gap": null,
      "grid_row": null,
      "grid_template_areas": null,
      "grid_template_columns": null,
      "grid_template_rows": null,
      "height": null,
      "justify_content": null,
      "justify_items": null,
      "left": null,
      "margin": null,
      "max_height": null,
      "max_width": null,
      "min_height": null,
      "min_width": null,
      "object_fit": null,
      "object_position": null,
      "order": null,
      "overflow": null,
      "overflow_x": null,
      "overflow_y": null,
      "padding": null,
      "right": null,
      "top": null,
      "visibility": null,
      "width": null
     }
    },
    "15b068dceaec4879864fd19630b2f71f": {
     "model_module": "@jupyter-widgets/base",
     "model_module_version": "1.2.0",
     "model_name": "LayoutModel",
     "state": {
      "_model_module": "@jupyter-widgets/base",
      "_model_module_version": "1.2.0",
      "_model_name": "LayoutModel",
      "_view_count": null,
      "_view_module": "@jupyter-widgets/base",
      "_view_module_version": "1.2.0",
      "_view_name": "LayoutView",
      "align_content": null,
      "align_items": null,
      "align_self": null,
      "border": null,
      "bottom": null,
      "display": null,
      "flex": null,
      "flex_flow": null,
      "grid_area": null,
      "grid_auto_columns": null,
      "grid_auto_flow": null,
      "grid_auto_rows": null,
      "grid_column": null,
      "grid_gap": null,
      "grid_row": null,
      "grid_template_areas": null,
      "grid_template_columns": null,
      "grid_template_rows": null,
      "height": null,
      "justify_content": null,
      "justify_items": null,
      "left": null,
      "margin": null,
      "max_height": null,
      "max_width": null,
      "min_height": null,
      "min_width": null,
      "object_fit": null,
      "object_position": null,
      "order": null,
      "overflow": null,
      "overflow_x": null,
      "overflow_y": null,
      "padding": null,
      "right": null,
      "top": null,
      "visibility": null,
      "width": null
     }
    },
    "16593d79fa044f1a876edbe0bd139325": {
     "model_module": "@jupyter-widgets/controls",
     "model_module_version": "1.5.0",
     "model_name": "DescriptionStyleModel",
     "state": {
      "_model_module": "@jupyter-widgets/controls",
      "_model_module_version": "1.5.0",
      "_model_name": "DescriptionStyleModel",
      "_view_count": null,
      "_view_module": "@jupyter-widgets/base",
      "_view_module_version": "1.2.0",
      "_view_name": "StyleView",
      "description_width": ""
     }
    },
    "18577e188ede449184199ef1514c716b": {
     "model_module": "@jupyter-widgets/base",
     "model_module_version": "1.2.0",
     "model_name": "LayoutModel",
     "state": {
      "_model_module": "@jupyter-widgets/base",
      "_model_module_version": "1.2.0",
      "_model_name": "LayoutModel",
      "_view_count": null,
      "_view_module": "@jupyter-widgets/base",
      "_view_module_version": "1.2.0",
      "_view_name": "LayoutView",
      "align_content": null,
      "align_items": null,
      "align_self": null,
      "border": null,
      "bottom": null,
      "display": null,
      "flex": null,
      "flex_flow": null,
      "grid_area": null,
      "grid_auto_columns": null,
      "grid_auto_flow": null,
      "grid_auto_rows": null,
      "grid_column": null,
      "grid_gap": null,
      "grid_row": null,
      "grid_template_areas": null,
      "grid_template_columns": null,
      "grid_template_rows": null,
      "height": null,
      "justify_content": null,
      "justify_items": null,
      "left": null,
      "margin": null,
      "max_height": null,
      "max_width": null,
      "min_height": null,
      "min_width": null,
      "object_fit": null,
      "object_position": null,
      "order": null,
      "overflow": null,
      "overflow_x": null,
      "overflow_y": null,
      "padding": null,
      "right": null,
      "top": null,
      "visibility": null,
      "width": null
     }
    },
    "1f1d837a5ced46aaa34902cf077f6bf2": {
     "model_module": "@jupyter-widgets/controls",
     "model_module_version": "1.5.0",
     "model_name": "HTMLModel",
     "state": {
      "_dom_classes": [],
      "_model_module": "@jupyter-widgets/controls",
      "_model_module_version": "1.5.0",
      "_model_name": "HTMLModel",
      "_view_count": null,
      "_view_module": "@jupyter-widgets/controls",
      "_view_module_version": "1.5.0",
      "_view_name": "HTMLView",
      "description": "",
      "description_tooltip": null,
      "layout": "IPY_MODEL_8706c28d59854808b21983175efc5a57",
      "placeholder": "​",
      "style": "IPY_MODEL_f5553308014b4efc8a408c284fa0823e",
      "value": " 28.0/28.0 [00:00&lt;00:00, 809B/s]"
     }
    },
    "362bb3a1c51a49e994d3a1a6ac2f94a3": {
     "model_module": "@jupyter-widgets/base",
     "model_module_version": "1.2.0",
     "model_name": "LayoutModel",
     "state": {
      "_model_module": "@jupyter-widgets/base",
      "_model_module_version": "1.2.0",
      "_model_name": "LayoutModel",
      "_view_count": null,
      "_view_module": "@jupyter-widgets/base",
      "_view_module_version": "1.2.0",
      "_view_name": "LayoutView",
      "align_content": null,
      "align_items": null,
      "align_self": null,
      "border": null,
      "bottom": null,
      "display": null,
      "flex": null,
      "flex_flow": null,
      "grid_area": null,
      "grid_auto_columns": null,
      "grid_auto_flow": null,
      "grid_auto_rows": null,
      "grid_column": null,
      "grid_gap": null,
      "grid_row": null,
      "grid_template_areas": null,
      "grid_template_columns": null,
      "grid_template_rows": null,
      "height": null,
      "justify_content": null,
      "justify_items": null,
      "left": null,
      "margin": null,
      "max_height": null,
      "max_width": null,
      "min_height": null,
      "min_width": null,
      "object_fit": null,
      "object_position": null,
      "order": null,
      "overflow": null,
      "overflow_x": null,
      "overflow_y": null,
      "padding": null,
      "right": null,
      "top": null,
      "visibility": null,
      "width": null
     }
    },
    "363422497665481f9f6521ecfdcf5f16": {
     "model_module": "@jupyter-widgets/base",
     "model_module_version": "1.2.0",
     "model_name": "LayoutModel",
     "state": {
      "_model_module": "@jupyter-widgets/base",
      "_model_module_version": "1.2.0",
      "_model_name": "LayoutModel",
      "_view_count": null,
      "_view_module": "@jupyter-widgets/base",
      "_view_module_version": "1.2.0",
      "_view_name": "LayoutView",
      "align_content": null,
      "align_items": null,
      "align_self": null,
      "border": null,
      "bottom": null,
      "display": null,
      "flex": null,
      "flex_flow": null,
      "grid_area": null,
      "grid_auto_columns": null,
      "grid_auto_flow": null,
      "grid_auto_rows": null,
      "grid_column": null,
      "grid_gap": null,
      "grid_row": null,
      "grid_template_areas": null,
      "grid_template_columns": null,
      "grid_template_rows": null,
      "height": null,
      "justify_content": null,
      "justify_items": null,
      "left": null,
      "margin": null,
      "max_height": null,
      "max_width": null,
      "min_height": null,
      "min_width": null,
      "object_fit": null,
      "object_position": null,
      "order": null,
      "overflow": null,
      "overflow_x": null,
      "overflow_y": null,
      "padding": null,
      "right": null,
      "top": null,
      "visibility": null,
      "width": null
     }
    },
    "364a8f893bf84cd29dd92029284dae32": {
     "model_module": "@jupyter-widgets/base",
     "model_module_version": "1.2.0",
     "model_name": "LayoutModel",
     "state": {
      "_model_module": "@jupyter-widgets/base",
      "_model_module_version": "1.2.0",
      "_model_name": "LayoutModel",
      "_view_count": null,
      "_view_module": "@jupyter-widgets/base",
      "_view_module_version": "1.2.0",
      "_view_name": "LayoutView",
      "align_content": null,
      "align_items": null,
      "align_self": null,
      "border": null,
      "bottom": null,
      "display": null,
      "flex": null,
      "flex_flow": null,
      "grid_area": null,
      "grid_auto_columns": null,
      "grid_auto_flow": null,
      "grid_auto_rows": null,
      "grid_column": null,
      "grid_gap": null,
      "grid_row": null,
      "grid_template_areas": null,
      "grid_template_columns": null,
      "grid_template_rows": null,
      "height": null,
      "justify_content": null,
      "justify_items": null,
      "left": null,
      "margin": null,
      "max_height": null,
      "max_width": null,
      "min_height": null,
      "min_width": null,
      "object_fit": null,
      "object_position": null,
      "order": null,
      "overflow": null,
      "overflow_x": null,
      "overflow_y": null,
      "padding": null,
      "right": null,
      "top": null,
      "visibility": null,
      "width": null
     }
    },
    "36712c0f5d8948b990d80c5da889c731": {
     "model_module": "@jupyter-widgets/base",
     "model_module_version": "1.2.0",
     "model_name": "LayoutModel",
     "state": {
      "_model_module": "@jupyter-widgets/base",
      "_model_module_version": "1.2.0",
      "_model_name": "LayoutModel",
      "_view_count": null,
      "_view_module": "@jupyter-widgets/base",
      "_view_module_version": "1.2.0",
      "_view_name": "LayoutView",
      "align_content": null,
      "align_items": null,
      "align_self": null,
      "border": null,
      "bottom": null,
      "display": null,
      "flex": null,
      "flex_flow": null,
      "grid_area": null,
      "grid_auto_columns": null,
      "grid_auto_flow": null,
      "grid_auto_rows": null,
      "grid_column": null,
      "grid_gap": null,
      "grid_row": null,
      "grid_template_areas": null,
      "grid_template_columns": null,
      "grid_template_rows": null,
      "height": null,
      "justify_content": null,
      "justify_items": null,
      "left": null,
      "margin": null,
      "max_height": null,
      "max_width": null,
      "min_height": null,
      "min_width": null,
      "object_fit": null,
      "object_position": null,
      "order": null,
      "overflow": null,
      "overflow_x": null,
      "overflow_y": null,
      "padding": null,
      "right": null,
      "top": null,
      "visibility": null,
      "width": null
     }
    },
    "3aa993cc96a7424d9311568fcc39eee3": {
     "model_module": "@jupyter-widgets/base",
     "model_module_version": "1.2.0",
     "model_name": "LayoutModel",
     "state": {
      "_model_module": "@jupyter-widgets/base",
      "_model_module_version": "1.2.0",
      "_model_name": "LayoutModel",
      "_view_count": null,
      "_view_module": "@jupyter-widgets/base",
      "_view_module_version": "1.2.0",
      "_view_name": "LayoutView",
      "align_content": null,
      "align_items": null,
      "align_self": null,
      "border": null,
      "bottom": null,
      "display": null,
      "flex": null,
      "flex_flow": null,
      "grid_area": null,
      "grid_auto_columns": null,
      "grid_auto_flow": null,
      "grid_auto_rows": null,
      "grid_column": null,
      "grid_gap": null,
      "grid_row": null,
      "grid_template_areas": null,
      "grid_template_columns": null,
      "grid_template_rows": null,
      "height": null,
      "justify_content": null,
      "justify_items": null,
      "left": null,
      "margin": null,
      "max_height": null,
      "max_width": null,
      "min_height": null,
      "min_width": null,
      "object_fit": null,
      "object_position": null,
      "order": null,
      "overflow": null,
      "overflow_x": null,
      "overflow_y": null,
      "padding": null,
      "right": null,
      "top": null,
      "visibility": null,
      "width": null
     }
    },
    "4049d3feba1548559997f37f0fef0869": {
     "model_module": "@jupyter-widgets/controls",
     "model_module_version": "1.5.0",
     "model_name": "DescriptionStyleModel",
     "state": {
      "_model_module": "@jupyter-widgets/controls",
      "_model_module_version": "1.5.0",
      "_model_name": "DescriptionStyleModel",
      "_view_count": null,
      "_view_module": "@jupyter-widgets/base",
      "_view_module_version": "1.2.0",
      "_view_name": "StyleView",
      "description_width": ""
     }
    },
    "41e903835ec84a8388d5135df25b608f": {
     "model_module": "@jupyter-widgets/controls",
     "model_module_version": "1.5.0",
     "model_name": "FloatProgressModel",
     "state": {
      "_dom_classes": [],
      "_model_module": "@jupyter-widgets/controls",
      "_model_module_version": "1.5.0",
      "_model_name": "FloatProgressModel",
      "_view_count": null,
      "_view_module": "@jupyter-widgets/controls",
      "_view_module_version": "1.5.0",
      "_view_name": "ProgressView",
      "bar_style": "success",
      "description": "",
      "description_tooltip": null,
      "layout": "IPY_MODEL_362bb3a1c51a49e994d3a1a6ac2f94a3",
      "max": 570,
      "min": 0,
      "orientation": "horizontal",
      "style": "IPY_MODEL_4a011b385fdf4710915fdf48cc2fe5f5",
      "value": 570
     }
    },
    "4994ef38d70c4c729f8c61edc13d2254": {
     "model_module": "@jupyter-widgets/controls",
     "model_module_version": "1.5.0",
     "model_name": "FloatProgressModel",
     "state": {
      "_dom_classes": [],
      "_model_module": "@jupyter-widgets/controls",
      "_model_module_version": "1.5.0",
      "_model_name": "FloatProgressModel",
      "_view_count": null,
      "_view_module": "@jupyter-widgets/controls",
      "_view_module_version": "1.5.0",
      "_view_name": "ProgressView",
      "bar_style": "success",
      "description": "",
      "description_tooltip": null,
      "layout": "IPY_MODEL_e2a78669f6cb477bb46da269f55cbfb7",
      "max": 440473133,
      "min": 0,
      "orientation": "horizontal",
      "style": "IPY_MODEL_bf0f85d3a94b49bf80907cd56679aa10",
      "value": 440473133
     }
    },
    "4a011b385fdf4710915fdf48cc2fe5f5": {
     "model_module": "@jupyter-widgets/controls",
     "model_module_version": "1.5.0",
     "model_name": "ProgressStyleModel",
     "state": {
      "_model_module": "@jupyter-widgets/controls",
      "_model_module_version": "1.5.0",
      "_model_name": "ProgressStyleModel",
      "_view_count": null,
      "_view_module": "@jupyter-widgets/base",
      "_view_module_version": "1.2.0",
      "_view_name": "StyleView",
      "bar_color": null,
      "description_width": ""
     }
    },
    "50c0bf9ca0ba4e3489625cdcbfb9aa09": {
     "model_module": "@jupyter-widgets/base",
     "model_module_version": "1.2.0",
     "model_name": "LayoutModel",
     "state": {
      "_model_module": "@jupyter-widgets/base",
      "_model_module_version": "1.2.0",
      "_model_name": "LayoutModel",
      "_view_count": null,
      "_view_module": "@jupyter-widgets/base",
      "_view_module_version": "1.2.0",
      "_view_name": "LayoutView",
      "align_content": null,
      "align_items": null,
      "align_self": null,
      "border": null,
      "bottom": null,
      "display": null,
      "flex": null,
      "flex_flow": null,
      "grid_area": null,
      "grid_auto_columns": null,
      "grid_auto_flow": null,
      "grid_auto_rows": null,
      "grid_column": null,
      "grid_gap": null,
      "grid_row": null,
      "grid_template_areas": null,
      "grid_template_columns": null,
      "grid_template_rows": null,
      "height": null,
      "justify_content": null,
      "justify_items": null,
      "left": null,
      "margin": null,
      "max_height": null,
      "max_width": null,
      "min_height": null,
      "min_width": null,
      "object_fit": null,
      "object_position": null,
      "order": null,
      "overflow": null,
      "overflow_x": null,
      "overflow_y": null,
      "padding": null,
      "right": null,
      "top": null,
      "visibility": null,
      "width": null
     }
    },
    "5168e6ba36484647a9bd7141c32dce19": {
     "model_module": "@jupyter-widgets/controls",
     "model_module_version": "1.5.0",
     "model_name": "HBoxModel",
     "state": {
      "_dom_classes": [],
      "_model_module": "@jupyter-widgets/controls",
      "_model_module_version": "1.5.0",
      "_model_name": "HBoxModel",
      "_view_count": null,
      "_view_module": "@jupyter-widgets/controls",
      "_view_module_version": "1.5.0",
      "_view_name": "HBoxView",
      "box_style": "",
      "children": [
       "IPY_MODEL_7ebab52b8fa64418b311aa70fb480932",
       "IPY_MODEL_41e903835ec84a8388d5135df25b608f",
       "IPY_MODEL_e78977966c414defbf614a184447c3fd"
      ],
      "layout": "IPY_MODEL_bf57d6e7594c4bec9214a6a6fe409650"
     }
    },
    "5d78fc54b02a40a89c187e9c4f9aef43": {
     "model_module": "@jupyter-widgets/controls",
     "model_module_version": "1.5.0",
     "model_name": "HBoxModel",
     "state": {
      "_dom_classes": [],
      "_model_module": "@jupyter-widgets/controls",
      "_model_module_version": "1.5.0",
      "_model_name": "HBoxModel",
      "_view_count": null,
      "_view_module": "@jupyter-widgets/controls",
      "_view_module_version": "1.5.0",
      "_view_name": "HBoxView",
      "box_style": "",
      "children": [
       "IPY_MODEL_e82871b416e5407cb409f4a49b21d794",
       "IPY_MODEL_83d5ed3a4f1c485bbadecd66f3b05fba",
       "IPY_MODEL_e2798d7676fe4e5db6897c3df10f499d"
      ],
      "layout": "IPY_MODEL_d052d1bc385447f686353ea8a9b79758"
     }
    },
    "6166dbcb168d44a3b0eff04a50241423": {
     "model_module": "@jupyter-widgets/controls",
     "model_module_version": "1.5.0",
     "model_name": "HBoxModel",
     "state": {
      "_dom_classes": [],
      "_model_module": "@jupyter-widgets/controls",
      "_model_module_version": "1.5.0",
      "_model_name": "HBoxModel",
      "_view_count": null,
      "_view_module": "@jupyter-widgets/controls",
      "_view_module_version": "1.5.0",
      "_view_name": "HBoxView",
      "box_style": "",
      "children": [
       "IPY_MODEL_9cf7a0d770b34d4b82fc7b58e79879ff",
       "IPY_MODEL_4994ef38d70c4c729f8c61edc13d2254",
       "IPY_MODEL_836ff5a3ffa8401ca8cb955ceab57a22"
      ],
      "layout": "IPY_MODEL_3aa993cc96a7424d9311568fcc39eee3"
     }
    },
    "64fa87b6a5d74e1d9927056a6dde4a3d": {
     "model_module": "@jupyter-widgets/controls",
     "model_module_version": "1.5.0",
     "model_name": "FloatProgressModel",
     "state": {
      "_dom_classes": [],
      "_model_module": "@jupyter-widgets/controls",
      "_model_module_version": "1.5.0",
      "_model_name": "FloatProgressModel",
      "_view_count": null,
      "_view_module": "@jupyter-widgets/controls",
      "_view_module_version": "1.5.0",
      "_view_name": "ProgressView",
      "bar_style": "success",
      "description": "",
      "description_tooltip": null,
      "layout": "IPY_MODEL_364a8f893bf84cd29dd92029284dae32",
      "max": 28,
      "min": 0,
      "orientation": "horizontal",
      "style": "IPY_MODEL_bbf6c58ed0e948b89a14de2cfe9f2e01",
      "value": 28
     }
    },
    "73195a922691499fb66339382ab7c872": {
     "model_module": "@jupyter-widgets/base",
     "model_module_version": "1.2.0",
     "model_name": "LayoutModel",
     "state": {
      "_model_module": "@jupyter-widgets/base",
      "_model_module_version": "1.2.0",
      "_model_name": "LayoutModel",
      "_view_count": null,
      "_view_module": "@jupyter-widgets/base",
      "_view_module_version": "1.2.0",
      "_view_name": "LayoutView",
      "align_content": null,
      "align_items": null,
      "align_self": null,
      "border": null,
      "bottom": null,
      "display": null,
      "flex": null,
      "flex_flow": null,
      "grid_area": null,
      "grid_auto_columns": null,
      "grid_auto_flow": null,
      "grid_auto_rows": null,
      "grid_column": null,
      "grid_gap": null,
      "grid_row": null,
      "grid_template_areas": null,
      "grid_template_columns": null,
      "grid_template_rows": null,
      "height": null,
      "justify_content": null,
      "justify_items": null,
      "left": null,
      "margin": null,
      "max_height": null,
      "max_width": null,
      "min_height": null,
      "min_width": null,
      "object_fit": null,
      "object_position": null,
      "order": null,
      "overflow": null,
      "overflow_x": null,
      "overflow_y": null,
      "padding": null,
      "right": null,
      "top": null,
      "visibility": null,
      "width": null
     }
    },
    "741bd34d2f5a4f2196c260230730c742": {
     "model_module": "@jupyter-widgets/controls",
     "model_module_version": "1.5.0",
     "model_name": "DescriptionStyleModel",
     "state": {
      "_model_module": "@jupyter-widgets/controls",
      "_model_module_version": "1.5.0",
      "_model_name": "DescriptionStyleModel",
      "_view_count": null,
      "_view_module": "@jupyter-widgets/base",
      "_view_module_version": "1.2.0",
      "_view_name": "StyleView",
      "description_width": ""
     }
    },
    "7ce78a1e638c42d7bbe39996475a93d0": {
     "model_module": "@jupyter-widgets/controls",
     "model_module_version": "1.5.0",
     "model_name": "DescriptionStyleModel",
     "state": {
      "_model_module": "@jupyter-widgets/controls",
      "_model_module_version": "1.5.0",
      "_model_name": "DescriptionStyleModel",
      "_view_count": null,
      "_view_module": "@jupyter-widgets/base",
      "_view_module_version": "1.2.0",
      "_view_name": "StyleView",
      "description_width": ""
     }
    },
    "7ebab52b8fa64418b311aa70fb480932": {
     "model_module": "@jupyter-widgets/controls",
     "model_module_version": "1.5.0",
     "model_name": "HTMLModel",
     "state": {
      "_dom_classes": [],
      "_model_module": "@jupyter-widgets/controls",
      "_model_module_version": "1.5.0",
      "_model_name": "HTMLModel",
      "_view_count": null,
      "_view_module": "@jupyter-widgets/controls",
      "_view_module_version": "1.5.0",
      "_view_name": "HTMLView",
      "description": "",
      "description_tooltip": null,
      "layout": "IPY_MODEL_50c0bf9ca0ba4e3489625cdcbfb9aa09",
      "placeholder": "​",
      "style": "IPY_MODEL_8a2d83a30cb34a2f94ac58dddc02a7e2",
      "value": "Downloading (…)lve/main/config.json: 100%"
     }
    },
    "836ff5a3ffa8401ca8cb955ceab57a22": {
     "model_module": "@jupyter-widgets/controls",
     "model_module_version": "1.5.0",
     "model_name": "HTMLModel",
     "state": {
      "_dom_classes": [],
      "_model_module": "@jupyter-widgets/controls",
      "_model_module_version": "1.5.0",
      "_model_name": "HTMLModel",
      "_view_count": null,
      "_view_module": "@jupyter-widgets/controls",
      "_view_module_version": "1.5.0",
      "_view_name": "HTMLView",
      "description": "",
      "description_tooltip": null,
      "layout": "IPY_MODEL_02d70ac1082346d1a25551a9a427454b",
      "placeholder": "​",
      "style": "IPY_MODEL_cd16a09cc81e46968ab27f5d76e24638",
      "value": " 440M/440M [00:03&lt;00:00, 131MB/s]"
     }
    },
    "83d5ed3a4f1c485bbadecd66f3b05fba": {
     "model_module": "@jupyter-widgets/controls",
     "model_module_version": "1.5.0",
     "model_name": "FloatProgressModel",
     "state": {
      "_dom_classes": [],
      "_model_module": "@jupyter-widgets/controls",
      "_model_module_version": "1.5.0",
      "_model_name": "FloatProgressModel",
      "_view_count": null,
      "_view_module": "@jupyter-widgets/controls",
      "_view_module_version": "1.5.0",
      "_view_name": "ProgressView",
      "bar_style": "success",
      "description": "",
      "description_tooltip": null,
      "layout": "IPY_MODEL_c45b1024555948198cd890687d4ce3a2",
      "max": 231508,
      "min": 0,
      "orientation": "horizontal",
      "style": "IPY_MODEL_d9874a1ef3634181a4dffa9b8d7a8eb1",
      "value": 231508
     }
    },
    "8706c28d59854808b21983175efc5a57": {
     "model_module": "@jupyter-widgets/base",
     "model_module_version": "1.2.0",
     "model_name": "LayoutModel",
     "state": {
      "_model_module": "@jupyter-widgets/base",
      "_model_module_version": "1.2.0",
      "_model_name": "LayoutModel",
      "_view_count": null,
      "_view_module": "@jupyter-widgets/base",
      "_view_module_version": "1.2.0",
      "_view_name": "LayoutView",
      "align_content": null,
      "align_items": null,
      "align_self": null,
      "border": null,
      "bottom": null,
      "display": null,
      "flex": null,
      "flex_flow": null,
      "grid_area": null,
      "grid_auto_columns": null,
      "grid_auto_flow": null,
      "grid_auto_rows": null,
      "grid_column": null,
      "grid_gap": null,
      "grid_row": null,
      "grid_template_areas": null,
      "grid_template_columns": null,
      "grid_template_rows": null,
      "height": null,
      "justify_content": null,
      "justify_items": null,
      "left": null,
      "margin": null,
      "max_height": null,
      "max_width": null,
      "min_height": null,
      "min_width": null,
      "object_fit": null,
      "object_position": null,
      "order": null,
      "overflow": null,
      "overflow_x": null,
      "overflow_y": null,
      "padding": null,
      "right": null,
      "top": null,
      "visibility": null,
      "width": null
     }
    },
    "8a2d83a30cb34a2f94ac58dddc02a7e2": {
     "model_module": "@jupyter-widgets/controls",
     "model_module_version": "1.5.0",
     "model_name": "DescriptionStyleModel",
     "state": {
      "_model_module": "@jupyter-widgets/controls",
      "_model_module_version": "1.5.0",
      "_model_name": "DescriptionStyleModel",
      "_view_count": null,
      "_view_module": "@jupyter-widgets/base",
      "_view_module_version": "1.2.0",
      "_view_name": "StyleView",
      "description_width": ""
     }
    },
    "9cf7a0d770b34d4b82fc7b58e79879ff": {
     "model_module": "@jupyter-widgets/controls",
     "model_module_version": "1.5.0",
     "model_name": "HTMLModel",
     "state": {
      "_dom_classes": [],
      "_model_module": "@jupyter-widgets/controls",
      "_model_module_version": "1.5.0",
      "_model_name": "HTMLModel",
      "_view_count": null,
      "_view_module": "@jupyter-widgets/controls",
      "_view_module_version": "1.5.0",
      "_view_name": "HTMLView",
      "description": "",
      "description_tooltip": null,
      "layout": "IPY_MODEL_15b068dceaec4879864fd19630b2f71f",
      "placeholder": "​",
      "style": "IPY_MODEL_fb68d716f2de4acd9001eb3893e069e0",
      "value": "Downloading pytorch_model.bin: 100%"
     }
    },
    "9e2e0ffca3214126b1edf0bbe77ff6b5": {
     "model_module": "@jupyter-widgets/controls",
     "model_module_version": "1.5.0",
     "model_name": "HBoxModel",
     "state": {
      "_dom_classes": [],
      "_model_module": "@jupyter-widgets/controls",
      "_model_module_version": "1.5.0",
      "_model_name": "HBoxModel",
      "_view_count": null,
      "_view_module": "@jupyter-widgets/controls",
      "_view_module_version": "1.5.0",
      "_view_name": "HBoxView",
      "box_style": "",
      "children": [
       "IPY_MODEL_ff53280172d043e6a74e943a1da18692",
       "IPY_MODEL_64fa87b6a5d74e1d9927056a6dde4a3d",
       "IPY_MODEL_1f1d837a5ced46aaa34902cf077f6bf2"
      ],
      "layout": "IPY_MODEL_36712c0f5d8948b990d80c5da889c731"
     }
    },
    "bbf6c58ed0e948b89a14de2cfe9f2e01": {
     "model_module": "@jupyter-widgets/controls",
     "model_module_version": "1.5.0",
     "model_name": "ProgressStyleModel",
     "state": {
      "_model_module": "@jupyter-widgets/controls",
      "_model_module_version": "1.5.0",
      "_model_name": "ProgressStyleModel",
      "_view_count": null,
      "_view_module": "@jupyter-widgets/base",
      "_view_module_version": "1.2.0",
      "_view_name": "StyleView",
      "bar_color": null,
      "description_width": ""
     }
    },
    "bf0f85d3a94b49bf80907cd56679aa10": {
     "model_module": "@jupyter-widgets/controls",
     "model_module_version": "1.5.0",
     "model_name": "ProgressStyleModel",
     "state": {
      "_model_module": "@jupyter-widgets/controls",
      "_model_module_version": "1.5.0",
      "_model_name": "ProgressStyleModel",
      "_view_count": null,
      "_view_module": "@jupyter-widgets/base",
      "_view_module_version": "1.2.0",
      "_view_name": "StyleView",
      "bar_color": null,
      "description_width": ""
     }
    },
    "bf57d6e7594c4bec9214a6a6fe409650": {
     "model_module": "@jupyter-widgets/base",
     "model_module_version": "1.2.0",
     "model_name": "LayoutModel",
     "state": {
      "_model_module": "@jupyter-widgets/base",
      "_model_module_version": "1.2.0",
      "_model_name": "LayoutModel",
      "_view_count": null,
      "_view_module": "@jupyter-widgets/base",
      "_view_module_version": "1.2.0",
      "_view_name": "LayoutView",
      "align_content": null,
      "align_items": null,
      "align_self": null,
      "border": null,
      "bottom": null,
      "display": null,
      "flex": null,
      "flex_flow": null,
      "grid_area": null,
      "grid_auto_columns": null,
      "grid_auto_flow": null,
      "grid_auto_rows": null,
      "grid_column": null,
      "grid_gap": null,
      "grid_row": null,
      "grid_template_areas": null,
      "grid_template_columns": null,
      "grid_template_rows": null,
      "height": null,
      "justify_content": null,
      "justify_items": null,
      "left": null,
      "margin": null,
      "max_height": null,
      "max_width": null,
      "min_height": null,
      "min_width": null,
      "object_fit": null,
      "object_position": null,
      "order": null,
      "overflow": null,
      "overflow_x": null,
      "overflow_y": null,
      "padding": null,
      "right": null,
      "top": null,
      "visibility": null,
      "width": null
     }
    },
    "c45b1024555948198cd890687d4ce3a2": {
     "model_module": "@jupyter-widgets/base",
     "model_module_version": "1.2.0",
     "model_name": "LayoutModel",
     "state": {
      "_model_module": "@jupyter-widgets/base",
      "_model_module_version": "1.2.0",
      "_model_name": "LayoutModel",
      "_view_count": null,
      "_view_module": "@jupyter-widgets/base",
      "_view_module_version": "1.2.0",
      "_view_name": "LayoutView",
      "align_content": null,
      "align_items": null,
      "align_self": null,
      "border": null,
      "bottom": null,
      "display": null,
      "flex": null,
      "flex_flow": null,
      "grid_area": null,
      "grid_auto_columns": null,
      "grid_auto_flow": null,
      "grid_auto_rows": null,
      "grid_column": null,
      "grid_gap": null,
      "grid_row": null,
      "grid_template_areas": null,
      "grid_template_columns": null,
      "grid_template_rows": null,
      "height": null,
      "justify_content": null,
      "justify_items": null,
      "left": null,
      "margin": null,
      "max_height": null,
      "max_width": null,
      "min_height": null,
      "min_width": null,
      "object_fit": null,
      "object_position": null,
      "order": null,
      "overflow": null,
      "overflow_x": null,
      "overflow_y": null,
      "padding": null,
      "right": null,
      "top": null,
      "visibility": null,
      "width": null
     }
    },
    "cd16a09cc81e46968ab27f5d76e24638": {
     "model_module": "@jupyter-widgets/controls",
     "model_module_version": "1.5.0",
     "model_name": "DescriptionStyleModel",
     "state": {
      "_model_module": "@jupyter-widgets/controls",
      "_model_module_version": "1.5.0",
      "_model_name": "DescriptionStyleModel",
      "_view_count": null,
      "_view_module": "@jupyter-widgets/base",
      "_view_module_version": "1.2.0",
      "_view_name": "StyleView",
      "description_width": ""
     }
    },
    "d052d1bc385447f686353ea8a9b79758": {
     "model_module": "@jupyter-widgets/base",
     "model_module_version": "1.2.0",
     "model_name": "LayoutModel",
     "state": {
      "_model_module": "@jupyter-widgets/base",
      "_model_module_version": "1.2.0",
      "_model_name": "LayoutModel",
      "_view_count": null,
      "_view_module": "@jupyter-widgets/base",
      "_view_module_version": "1.2.0",
      "_view_name": "LayoutView",
      "align_content": null,
      "align_items": null,
      "align_self": null,
      "border": null,
      "bottom": null,
      "display": null,
      "flex": null,
      "flex_flow": null,
      "grid_area": null,
      "grid_auto_columns": null,
      "grid_auto_flow": null,
      "grid_auto_rows": null,
      "grid_column": null,
      "grid_gap": null,
      "grid_row": null,
      "grid_template_areas": null,
      "grid_template_columns": null,
      "grid_template_rows": null,
      "height": null,
      "justify_content": null,
      "justify_items": null,
      "left": null,
      "margin": null,
      "max_height": null,
      "max_width": null,
      "min_height": null,
      "min_width": null,
      "object_fit": null,
      "object_position": null,
      "order": null,
      "overflow": null,
      "overflow_x": null,
      "overflow_y": null,
      "padding": null,
      "right": null,
      "top": null,
      "visibility": null,
      "width": null
     }
    },
    "d9874a1ef3634181a4dffa9b8d7a8eb1": {
     "model_module": "@jupyter-widgets/controls",
     "model_module_version": "1.5.0",
     "model_name": "ProgressStyleModel",
     "state": {
      "_model_module": "@jupyter-widgets/controls",
      "_model_module_version": "1.5.0",
      "_model_name": "ProgressStyleModel",
      "_view_count": null,
      "_view_module": "@jupyter-widgets/base",
      "_view_module_version": "1.2.0",
      "_view_name": "StyleView",
      "bar_color": null,
      "description_width": ""
     }
    },
    "e2798d7676fe4e5db6897c3df10f499d": {
     "model_module": "@jupyter-widgets/controls",
     "model_module_version": "1.5.0",
     "model_name": "HTMLModel",
     "state": {
      "_dom_classes": [],
      "_model_module": "@jupyter-widgets/controls",
      "_model_module_version": "1.5.0",
      "_model_name": "HTMLModel",
      "_view_count": null,
      "_view_module": "@jupyter-widgets/controls",
      "_view_module_version": "1.5.0",
      "_view_name": "HTMLView",
      "description": "",
      "description_tooltip": null,
      "layout": "IPY_MODEL_e47d12b1a29447cc96d0f06afa762073",
      "placeholder": "​",
      "style": "IPY_MODEL_4049d3feba1548559997f37f0fef0869",
      "value": " 232k/232k [00:00&lt;00:00, 3.43MB/s]"
     }
    },
    "e2a78669f6cb477bb46da269f55cbfb7": {
     "model_module": "@jupyter-widgets/base",
     "model_module_version": "1.2.0",
     "model_name": "LayoutModel",
     "state": {
      "_model_module": "@jupyter-widgets/base",
      "_model_module_version": "1.2.0",
      "_model_name": "LayoutModel",
      "_view_count": null,
      "_view_module": "@jupyter-widgets/base",
      "_view_module_version": "1.2.0",
      "_view_name": "LayoutView",
      "align_content": null,
      "align_items": null,
      "align_self": null,
      "border": null,
      "bottom": null,
      "display": null,
      "flex": null,
      "flex_flow": null,
      "grid_area": null,
      "grid_auto_columns": null,
      "grid_auto_flow": null,
      "grid_auto_rows": null,
      "grid_column": null,
      "grid_gap": null,
      "grid_row": null,
      "grid_template_areas": null,
      "grid_template_columns": null,
      "grid_template_rows": null,
      "height": null,
      "justify_content": null,
      "justify_items": null,
      "left": null,
      "margin": null,
      "max_height": null,
      "max_width": null,
      "min_height": null,
      "min_width": null,
      "object_fit": null,
      "object_position": null,
      "order": null,
      "overflow": null,
      "overflow_x": null,
      "overflow_y": null,
      "padding": null,
      "right": null,
      "top": null,
      "visibility": null,
      "width": null
     }
    },
    "e47d12b1a29447cc96d0f06afa762073": {
     "model_module": "@jupyter-widgets/base",
     "model_module_version": "1.2.0",
     "model_name": "LayoutModel",
     "state": {
      "_model_module": "@jupyter-widgets/base",
      "_model_module_version": "1.2.0",
      "_model_name": "LayoutModel",
      "_view_count": null,
      "_view_module": "@jupyter-widgets/base",
      "_view_module_version": "1.2.0",
      "_view_name": "LayoutView",
      "align_content": null,
      "align_items": null,
      "align_self": null,
      "border": null,
      "bottom": null,
      "display": null,
      "flex": null,
      "flex_flow": null,
      "grid_area": null,
      "grid_auto_columns": null,
      "grid_auto_flow": null,
      "grid_auto_rows": null,
      "grid_column": null,
      "grid_gap": null,
      "grid_row": null,
      "grid_template_areas": null,
      "grid_template_columns": null,
      "grid_template_rows": null,
      "height": null,
      "justify_content": null,
      "justify_items": null,
      "left": null,
      "margin": null,
      "max_height": null,
      "max_width": null,
      "min_height": null,
      "min_width": null,
      "object_fit": null,
      "object_position": null,
      "order": null,
      "overflow": null,
      "overflow_x": null,
      "overflow_y": null,
      "padding": null,
      "right": null,
      "top": null,
      "visibility": null,
      "width": null
     }
    },
    "e78977966c414defbf614a184447c3fd": {
     "model_module": "@jupyter-widgets/controls",
     "model_module_version": "1.5.0",
     "model_name": "HTMLModel",
     "state": {
      "_dom_classes": [],
      "_model_module": "@jupyter-widgets/controls",
      "_model_module_version": "1.5.0",
      "_model_name": "HTMLModel",
      "_view_count": null,
      "_view_module": "@jupyter-widgets/controls",
      "_view_module_version": "1.5.0",
      "_view_name": "HTMLView",
      "description": "",
      "description_tooltip": null,
      "layout": "IPY_MODEL_363422497665481f9f6521ecfdcf5f16",
      "placeholder": "​",
      "style": "IPY_MODEL_741bd34d2f5a4f2196c260230730c742",
      "value": " 570/570 [00:00&lt;00:00, 10.4kB/s]"
     }
    },
    "e82871b416e5407cb409f4a49b21d794": {
     "model_module": "@jupyter-widgets/controls",
     "model_module_version": "1.5.0",
     "model_name": "HTMLModel",
     "state": {
      "_dom_classes": [],
      "_model_module": "@jupyter-widgets/controls",
      "_model_module_version": "1.5.0",
      "_model_name": "HTMLModel",
      "_view_count": null,
      "_view_module": "@jupyter-widgets/controls",
      "_view_module_version": "1.5.0",
      "_view_name": "HTMLView",
      "description": "",
      "description_tooltip": null,
      "layout": "IPY_MODEL_73195a922691499fb66339382ab7c872",
      "placeholder": "​",
      "style": "IPY_MODEL_16593d79fa044f1a876edbe0bd139325",
      "value": "Downloading (…)solve/main/vocab.txt: 100%"
     }
    },
    "f5553308014b4efc8a408c284fa0823e": {
     "model_module": "@jupyter-widgets/controls",
     "model_module_version": "1.5.0",
     "model_name": "DescriptionStyleModel",
     "state": {
      "_model_module": "@jupyter-widgets/controls",
      "_model_module_version": "1.5.0",
      "_model_name": "DescriptionStyleModel",
      "_view_count": null,
      "_view_module": "@jupyter-widgets/base",
      "_view_module_version": "1.2.0",
      "_view_name": "StyleView",
      "description_width": ""
     }
    },
    "fb68d716f2de4acd9001eb3893e069e0": {
     "model_module": "@jupyter-widgets/controls",
     "model_module_version": "1.5.0",
     "model_name": "DescriptionStyleModel",
     "state": {
      "_model_module": "@jupyter-widgets/controls",
      "_model_module_version": "1.5.0",
      "_model_name": "DescriptionStyleModel",
      "_view_count": null,
      "_view_module": "@jupyter-widgets/base",
      "_view_module_version": "1.2.0",
      "_view_name": "StyleView",
      "description_width": ""
     }
    },
    "ff53280172d043e6a74e943a1da18692": {
     "model_module": "@jupyter-widgets/controls",
     "model_module_version": "1.5.0",
     "model_name": "HTMLModel",
     "state": {
      "_dom_classes": [],
      "_model_module": "@jupyter-widgets/controls",
      "_model_module_version": "1.5.0",
      "_model_name": "HTMLModel",
      "_view_count": null,
      "_view_module": "@jupyter-widgets/controls",
      "_view_module_version": "1.5.0",
      "_view_name": "HTMLView",
      "description": "",
      "description_tooltip": null,
      "layout": "IPY_MODEL_18577e188ede449184199ef1514c716b",
      "placeholder": "​",
      "style": "IPY_MODEL_7ce78a1e638c42d7bbe39996475a93d0",
      "value": "Downloading (…)okenizer_config.json: 100%"
     }
    }
   }
  }
 },
 "nbformat": 4,
 "nbformat_minor": 1
}
